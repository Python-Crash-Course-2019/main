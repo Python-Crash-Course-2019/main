{
 "cells": [
  {
   "cell_type": "markdown",
   "metadata": {},
   "source": [
    "# Homework 1 (Python Crash Course - IMSAL)"
   ]
  },
  {
   "cell_type": "markdown",
   "metadata": {},
   "source": [
    "1) Let's state for example that the Belgian tax system is as follows:\n",
    "- 1 percent on the first 50 000 € of your annual personal income\n",
    "- 2 percent if your personal income is in between 50 000 € - 70 000 €\n",
    "- 3 percent if your personal income is in between 70 000 € - 85 000 €\n",
    "- 4 percent if your personal income is in between 85 000 € - 115 000 €\n",
    "- 5 percent if your personal income is in between 115 000 € - 200 000 €\n",
    "- 6 percent if your personal income is above 200 000 €\n",
    "\n",
    "Now write a program that askes the user for his personal income and outputs the amount of tax he'll have to pay."
   ]
  },
  {
   "cell_type": "code",
   "execution_count": null,
   "metadata": {},
   "outputs": [],
   "source": []
  },
  {
   "cell_type": "markdown",
   "metadata": {},
   "source": [
    "2) A year with 366 days is called a leap year. This is needed to keep the calendar synchronized with the sun. Every year that is divisible by 4 is a leap year. However there's still a small error for years that are divisible by 100. To eliminate that error we should count years that are divisble by 100 as leap years only if they are also divisible by 400 (so for example: 1900 is not counted as a leap year even if it is divisible by 4 because it's also divisible by 100 and not by 400. Whereas 2000 is a leap year as it's divisible by 4, 100 and 400)\n",
    "\n",
    "Make a program that asks the user to input a year and outputs whether the given year is a leap year or not. Test your code with following input:\n",
    "- 1994 is not a leap year\n",
    "- 1745 is not a leap year\n",
    "- 1840 is a leap year\n",
    "- 1900 is not a leap year\n",
    "- 1600 is a leap year\n",
    "- 1800 is not a leap year\n",
    "- 1745 is not a leap year"
   ]
  },
  {
   "cell_type": "code",
   "execution_count": null,
   "metadata": {},
   "outputs": [],
   "source": []
  },
  {
   "cell_type": "markdown",
   "metadata": {},
   "source": [
    "3) Write a program that advances a given time by 1 second. Start by asking for 3 inputs: number_of_hours, number_of_minutes and number_of_seconds. Then you calculate what the outcome would be if you would add 1 second to the given time. Work with a system that goes from 1 till 23 hours. Here are some examples:\n",
    "\n",
    "Example 1:\n",
    "- hours: 01\n",
    "- minutes: 15\n",
    "- seconds: 25\n",
    "- ==> output is: \"01:15:26\"\n",
    "\n",
    "Example 2:\n",
    "- hours: 16\n",
    "- minutes: 49\n",
    "- seconds: 59\n",
    "- ==> output is: \"16:50:00\"\n",
    "\n",
    "Example 3:\n",
    "- hours: 23\n",
    "- minutes: 59\n",
    "- seconds: 59\n",
    "- ==> output is: \"00:00:00\""
   ]
  },
  {
   "cell_type": "code",
   "execution_count": null,
   "metadata": {},
   "outputs": [],
   "source": []
  }
 ],
 "metadata": {
  "kernelspec": {
   "display_name": "Python 3",
   "language": "python",
   "name": "python3"
  },
  "language_info": {
   "codemirror_mode": {
    "name": "ipython",
    "version": 3
   },
   "file_extension": ".py",
   "mimetype": "text/x-python",
   "name": "python",
   "nbconvert_exporter": "python",
   "pygments_lexer": "ipython3",
   "version": "3.6.3"
  }
 },
 "nbformat": 4,
 "nbformat_minor": 2
}
