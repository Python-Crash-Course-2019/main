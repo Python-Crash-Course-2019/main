{
 "cells": [
  {
   "cell_type": "markdown",
   "metadata": {},
   "source": [
    "# Homework 1 (Python Crash Course - IMSAL)"
   ]
  },
  {
   "cell_type": "markdown",
   "metadata": {},
   "source": [
    "1) Let's state for example that the Belgian tax system is as follows:\n",
    "- 1 percent on the first 50 000 € of your annual personal income\n",
    "- 2 percent if your personal income is in between 50 000 € - 70 000 €\n",
    "- 3 percent if your personal income is in between 70 000 € - 85 000 €\n",
    "- 4 percent if your personal income is in between 85 000 € - 115 000 €\n",
    "- 5 percent if your personal income is in between 115 000 € - 200 000 €\n",
    "- 6 percent if your personal income is above 200 000 €\n",
    "\n",
    "Now write a program that askes the user for his personal income and outputs the amount of tax he'll have to pay."
   ]
  },
  {
   "cell_type": "code",
   "execution_count": null,
   "metadata": {},
   "outputs": [],
   "source": []
  },
  {
   "cell_type": "markdown",
   "metadata": {},
   "source": [
    "2) A year with 366 days is called a leap year. This is needed to keep the calendar synchronized with the sun. Every year that is divisible by 4 is a leap year. However there's still a small error for years that are divisible by 100. To eliminate that error we consider years that are divisble by 100 as leap years only if they are also divisible by 400 (so for example: 1900 is not counted as a leap year even if it is divisible by 4 because it's also divisible by 100 and not by 400. Whereas 2000 is a leap year as it's divisible by 4, 100 and 400)\n",
    "\n",
    "Make a program that asks the user to input a year and outputs whether the given year is a leap year or not. Test your code with following input:\n",
    "- 1994 is not a leap year\n",
    "- 1745 is not a leap year\n",
    "- 1840 is a leap year\n",
    "- 1900 is not a leap year\n",
    "- 1600 is a leap year\n",
    "- 1800 is not a leap year\n",
    "- 1745 is not a leap year"
   ]
  },
  {
   "cell_type": "code",
   "execution_count": 1,
   "metadata": {},
   "outputs": [
    {
     "name": "stdout",
     "output_type": "stream",
     "text": [
      "Give a year Ilias: 1800\n",
      "1800 is not a leap year\n"
     ]
    }
   ],
   "source": [
    "year=int(input(\"Give a year Ilias: \"))\n",
    "\n",
    "\n",
    "if year%4 == 0 and year%100 == 0 and year%400 == 0:\n",
    "    print(year, \"is a leap year !\")\n",
    "if year%4 == 0 and year%100 != 0:\n",
    "    print(year, \"is a leap year !\")\n",
    "if year%4 == 0 and year%100 == 0 and year%400 != 0:\n",
    "    print(year, \"is not a leap year !\")"
   ]
  },
  {
   "cell_type": "markdown",
   "metadata": {},
   "source": [
    "3) Write a program that advances a given digital time by adding 1 second to it. So you first start by asking for 3 inputs: number_of_hours, number_of_minutes, number_of_seconds. Then you print the resulting time if you would add 1 second (in this format XX:XX:XX).\n",
    "\n",
    "Example 1:\n",
    "- hours: 1\n",
    "- minutes: 16\n",
    "- seconds: 15\n",
    "- ==> output is: \"1:16:16\"\n",
    "\n",
    "Example 2:\n",
    "- hourse: 13\n",
    "- minutes: 49\n",
    "- seconds: 59\n",
    "- ==> output is: \"13:50:00\"\n",
    "\n",
    "Example 3:\n",
    "- hours: 23\n",
    "- minutes: 59\n",
    "- seconds: 59\n",
    "- ==> output is: \"00:00:00\""
   ]
  },
  {
   "cell_type": "code",
   "execution_count": 5,
   "metadata": {},
   "outputs": [
    {
     "name": "stdout",
     "output_type": "stream",
     "text": [
      "hour:23\n",
      "minutes:59\n",
      "seconds:59\n",
      "0 : 0 : 0\n"
     ]
    }
   ],
   "source": [
    "h = int(input(\"hour:\"))\n",
    "m = int(input(\"minutes:\"))\n",
    "s = int(input(\"seconds:\"))\n",
    "\n",
    "s=s+1\n",
    "\n",
    "if s==60:\n",
    "    s=0\n",
    "    m=m+1\n",
    "if m==60:\n",
    "    m=0\n",
    "    h=h+1\n",
    "if h==24:\n",
    "    h=0\n",
    "\n",
    "print (h, \":\",m,\":\",s)\n"
   ]
  },
  {
   "cell_type": "code",
   "execution_count": null,
   "metadata": {},
   "outputs": [],
   "source": []
  }
 ],
 "metadata": {
  "kernelspec": {
   "display_name": "Python 3",
   "language": "python",
   "name": "python3"
  },
  "language_info": {
   "codemirror_mode": {
    "name": "ipython",
    "version": 3
   },
   "file_extension": ".py",
   "mimetype": "text/x-python",
   "name": "python",
   "nbconvert_exporter": "python",
   "pygments_lexer": "ipython3",
   "version": "3.6.3"
  }
 },
 "nbformat": 4,
 "nbformat_minor": 2
}
