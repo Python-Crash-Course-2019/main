{
 "cells": [
  {
   "cell_type": "markdown",
   "metadata": {},
   "source": [
    "# Weekend Assignment 1 (Python Crash Course - IMSAL)"
   ]
  },
  {
   "cell_type": "markdown",
   "metadata": {},
   "source": [
    "1) You need to make a sign-in system for a company that sells content for adults. When making a new account, the company needs to know following information: first_name, last_name, username, password, year_of_birth. Make sure only adults can register. If a non adult tries to register you should print that he can't. If an adult registers you should accept the registration and save all the information in a tuple. Example: (\"Adam\", \"Elm\", \"Epsylon1023\", \"Adam123\", 1997)"
   ]
  },
  {
   "cell_type": "code",
   "execution_count": null,
   "metadata": {},
   "outputs": [],
   "source": []
  },
  {
   "cell_type": "markdown",
   "metadata": {},
   "source": [
    "2) The company was very happy with the application. But after 1 year the company manager gets back to you in a very angry state. You look at his face and it looks like he's gonna kill you. But fortunately you know some Ju-Jitsu tricks and you manage to counter his punch and control his body on the floor. Then (while controling his body) you ask him: \"What's wrong with you ??!!\". He replies \"You stupid programer, when you left us the application was working very well. Now some people that just became 18 still can't register !\". You release his body and start thinking ... You then realize: \"O my God ... of course !! At that time they were 17 years old. But now they are 18 and can access it but I didn't edit my program !\". You run like hell to your computer and correct the mistake. Edit your code of previous exercise by making sure it would work from now on regardless of the year in which you make the problem. Think for a while, this will require some internet research. If you're really stuck, send me a mail and I can give you a hint: adam.elmrabet@imsal.be"
   ]
  },
  {
   "cell_type": "code",
   "execution_count": null,
   "metadata": {},
   "outputs": [],
   "source": []
  },
  {
   "cell_type": "markdown",
   "metadata": {},
   "source": [
    "3) The company manager is happy with your new solution and he goes away. But then he realizes that he has to run the program again and again everytime a new consumer wants to sign in. So only 1 customer can sign in and then the program stops/exits. And when you run the program again the tuple is empty and you lost previous customer. This time he comes back to you with the same angry face as last time. The only difference is that he learned Ju-Jitsu as well. This time he is the one who puts you on the floor and takes you in a position of submission. He then realeases you and gives you 1 month to tackle this issue. How will you solve this ? Will you edit your code, or will you strengthen your Ju-Jitsu ? Write a code that makes sure the program keeps running forever. Record all registrations in tuples and put them all in one big list. Example: After two registrations your customers list looks like this: [(\"Adam\", \"Elm\", \"Epsylon1023\", \"Adam123\", 1997), (\"Jackie\", \"Chan\", \"Jackie123\", \"Konichiwa2000\", 1954)]"
   ]
  },
  {
   "cell_type": "code",
   "execution_count": null,
   "metadata": {},
   "outputs": [],
   "source": [
    "\n"
   ]
  },
  {
   "cell_type": "code",
   "execution_count": null,
   "metadata": {},
   "outputs": [],
   "source": []
  }
 ],
 "metadata": {
  "kernelspec": {
   "display_name": "Python 3",
   "language": "python",
   "name": "python3"
  },
  "language_info": {
   "codemirror_mode": {
    "name": "ipython",
    "version": 3
   },
   "file_extension": ".py",
   "mimetype": "text/x-python",
   "name": "python",
   "nbconvert_exporter": "python",
   "pygments_lexer": "ipython3",
   "version": "3.6.3"
  }
 },
 "nbformat": 4,
 "nbformat_minor": 2
}
