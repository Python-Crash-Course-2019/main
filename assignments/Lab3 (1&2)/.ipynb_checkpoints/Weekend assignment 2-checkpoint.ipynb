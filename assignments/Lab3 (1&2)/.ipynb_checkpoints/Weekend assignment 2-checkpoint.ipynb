{
 "cells": [
  {
   "cell_type": "markdown",
   "metadata": {},
   "source": [
    "# Weekend Assignment 2 (Python Crash Course - IMSAL)"
   ]
  },
  {
   "cell_type": "markdown",
   "metadata": {},
   "source": [
    "1) Ask the user to input his top 5 food. Instead of using 5 lines of input code, try to make a loop. These 5 strings should be saved in a list called food."
   ]
  },
  {
   "cell_type": "code",
   "execution_count": null,
   "metadata": {},
   "outputs": [],
   "source": []
  },
  {
   "cell_type": "markdown",
   "metadata": {},
   "source": [
    "2) Now make another loop that will check if the string \"fries\" is inside the list food. Don't use 'in' for this exercise, but make a while loop that will check every element and print \"Yes fries is in the list\" if it is. If it's not in the list your code should print nothing. (Of course go back to previous exercise and add and/or remove \"fries\" from the list then run your solution to this exercise again and again to test that your code works in every case)"
   ]
  },
  {
   "cell_type": "code",
   "execution_count": null,
   "metadata": {},
   "outputs": [],
   "source": []
  },
  {
   "cell_type": "markdown",
   "metadata": {},
   "source": [
    "3) Sometimes an input requires to be a number and not a string. Just think about when asking for the age or for a year of birth. However the input function automatically converts an input to a string. We've seen that we can solve this problem by using the int() function this way: int(input(\"Age: \")). However this wouldn't work if the user inputs a word or a text. The int() function cannot convert a word to an integer. The string has to be only composed of digits. Who guarantees that a user of your program won't input for example: \"Twenty one\" instead of \"21\"? If you would ask the input this way: int(input(\"Age: \")) your program would crash after the input of \"Twenty one\". Make a while loop in which you will ask for the age again and again and again until the given input is only composed of digits (internet research).\n",
    "\n",
    "\n",
    "Example:\n",
    "\n",
    "Enter your age: \"Twenty One\"\n",
    "\n",
    "Sorry, only numbers are allowed, enter your age: \"I meant 21\"\n",
    "\n",
    "Sorry, only numbers are allowed, enter your age: \"21 (I hope this time it works)\"\n",
    "\n",
    "Sorry, only numbers are allowed, enter your age: \"21\"\n",
    "\n",
    "Thank you !"
   ]
  },
  {
   "cell_type": "code",
   "execution_count": null,
   "metadata": {},
   "outputs": [],
   "source": []
  },
  {
   "cell_type": "markdown",
   "metadata": {},
   "source": [
    "4) Below is a multi-dimensional list or a 'matrix'. This is especially useful for cases where grids are needed. Just think about how a chess board or a 2D game could be represented. In fact a matrix is nothing more than lists inside of lists. The matrix below represents a chess game at the initial state. Just like in this picture: https://www.google.com/search?client=ubuntu&hs=A0n&channel=fs&biw=1366&bih=616&tbm=isch&sxsrf=ACYBGNSRZd6qHV50g8uTt15hEEW9nijJuw%3A1568537058241&sa=1&ei=4vl9XbGsDonWkwXX_a1w&q=chess+game#imgrc=K-EUBXv4ttzzwM:\n",
    "\n",
    "Every cell is represented by an element of a sublist. For visual simplification I have left 1 sublist per line, but it doesn't matter whether you do it this way or write the lists one after each other. Just make sure to have a comma between each list.\n",
    "\n",
    "Your pieces have the number 1. Your opponent's pieces are marked by 2. So 'Q1' means your queen while 'Q2' means your opponent's queen. Here is the list of pieces:\n",
    "* K: A king\n",
    "* Q: A queen\n",
    "* B: A Bishop\n",
    "* K: A Knight\n",
    "* R: A Rook\n",
    "* P: A Pawn\n",
    "\n",
    "Run the code below to save the chess_board"
   ]
  },
  {
   "cell_type": "code",
   "execution_count": null,
   "metadata": {},
   "outputs": [],
   "source": [
    "chess_board = \\\n",
    "[['R2','K2', 'B2', 'Q2', 'K2', 'B2', 'K2', 'R2'],\n",
    " ['P2','P2', 'P2', 'P2', 'P2', 'P2', 'P2', 'P2'],\n",
    " ['  ','  ', '  ', '  ', '  ', '  ', '  ', '  '],\n",
    " ['  ','  ', '  ', '  ', '  ', '  ', '  ', '  '],\n",
    " ['  ','  ', '  ', '  ', '  ', '  ', '  ', '  '],\n",
    " ['  ','  ', '  ', '  ', '  ', '  ', '  ', '  '],\n",
    " ['P1','P1', 'P1', 'P1', 'P1', 'P1', 'P1', 'P1'],\n",
    " ['R1','K1', 'B1', 'Q1', 'K1', 'B1', 'K1', 'R1']]"
   ]
  },
  {
   "cell_type": "code",
   "execution_count": null,
   "metadata": {},
   "outputs": [],
   "source": [
    "chess_board  # Run this line to check that the chess board is correctly loaded"
   ]
  },
  {
   "cell_type": "markdown",
   "metadata": {},
   "source": [
    "5) It is your turn to play. You make the very classical move of moving your Pawn (P1) just above your king (K1) two cells up. How many cells should you edit ? Do it."
   ]
  },
  {
   "cell_type": "code",
   "execution_count": 5,
   "metadata": {},
   "outputs": [],
   "source": [
    "# Here make the required edits (don't forget to save these edits back in chess_board):\n"
   ]
  },
  {
   "cell_type": "code",
   "execution_count": 6,
   "metadata": {},
   "outputs": [],
   "source": [
    "# Here print the resulting board:\n"
   ]
  },
  {
   "cell_type": "markdown",
   "metadata": {},
   "source": [
    "6) Your opponent is not so smart and moves his Pawn (P2) under his Queen (Q2) two cells down."
   ]
  },
  {
   "cell_type": "code",
   "execution_count": 7,
   "metadata": {},
   "outputs": [],
   "source": [
    "# Here make the required edits (don't forget to save these edits back in chess_board):\n"
   ]
  },
  {
   "cell_type": "code",
   "execution_count": 8,
   "metadata": {},
   "outputs": [],
   "source": [
    "# Here print the resulting board:\n"
   ]
  },
  {
   "cell_type": "markdown",
   "metadata": {},
   "source": [
    "7) You now eat with your previously moved Pawn (P1) his moved Pawn (P2). This will require your Pawn to move diagonally one cell up to the left (and this is how Pawns eat in chess)."
   ]
  },
  {
   "cell_type": "code",
   "execution_count": 9,
   "metadata": {},
   "outputs": [],
   "source": [
    "# Here make the required edits (don't forget to save these edits back in chess_board):\n"
   ]
  },
  {
   "cell_type": "code",
   "execution_count": null,
   "metadata": {},
   "outputs": [],
   "source": [
    "# Here print the resulting board:\n"
   ]
  }
 ],
 "metadata": {
  "kernelspec": {
   "display_name": "Python 3",
   "language": "python",
   "name": "python3"
  },
  "language_info": {
   "codemirror_mode": {
    "name": "ipython",
    "version": 3
   },
   "file_extension": ".py",
   "mimetype": "text/x-python",
   "name": "python",
   "nbconvert_exporter": "python",
   "pygments_lexer": "ipython3",
   "version": "3.6.3"
  }
 },
 "nbformat": 4,
 "nbformat_minor": 2
}
