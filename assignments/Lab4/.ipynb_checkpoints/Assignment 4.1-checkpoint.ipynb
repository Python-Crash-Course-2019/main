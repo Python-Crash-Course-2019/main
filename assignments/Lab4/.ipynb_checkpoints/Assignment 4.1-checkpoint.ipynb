{
 "cells": [
  {
   "cell_type": "markdown",
   "metadata": {},
   "source": [
    "# Assignment 4.1 (Python Crash Course - IMSAL)"
   ]
  },
  {
   "cell_type": "markdown",
   "metadata": {},
   "source": [
    "1) Print all element of the sublists of the matrix below using loops:"
   ]
  },
  {
   "cell_type": "code",
   "execution_count": null,
   "metadata": {},
   "outputs": [],
   "source": [
    "matrix = [[1,2,3],[\"Adam\", \"Elm\"],[1231511]]\n",
    "\n",
    "# Make your loop here"
   ]
  },
  {
   "cell_type": "markdown",
   "metadata": {},
   "source": [
    "2) Make the same guess game we've made together during the lecture. So you repeatedly ask the user of your program (who starts with a score of 25) to guess a number between 1 and 100 until the guess is right. At every guess you tell the user whether the guessed number is greater or smaller and divide the score by two. Except if the guess is right, then you should end your program telling how much the user scores. And if the score becomes zero the user loses the game."
   ]
  },
  {
   "cell_type": "code",
   "execution_count": null,
   "metadata": {},
   "outputs": [],
   "source": []
  },
  {
   "cell_type": "markdown",
   "metadata": {},
   "source": [
    "3) Remember the weekend assignment 1 in which you needed to implement a sign-in system for the angry manager. You now build an entire signin-login system. Make a program that asks the user for one of following inputs: Tell him to write 0 if he wants to exit the program, 1 if he wants to signin (register a new account) and 2 if he wants to login to an existing account. Then according to the input you process the request and do what is asked. Then once the process is finished you get back to the first input-message: \"Enter 0 to quit, 1 to signin, 2 to login: \". Feel free to give your own touch to the program. You can use whatever datatype for storing the users. Store only username and password this time (no need for real name, email etc.)"
   ]
  },
  {
   "cell_type": "code",
   "execution_count": null,
   "metadata": {},
   "outputs": [],
   "source": []
  }
 ],
 "metadata": {
  "kernelspec": {
   "display_name": "Python 3",
   "language": "python",
   "name": "python3"
  },
  "language_info": {
   "codemirror_mode": {
    "name": "ipython",
    "version": 3
   },
   "file_extension": ".py",
   "mimetype": "text/x-python",
   "name": "python",
   "nbconvert_exporter": "python",
   "pygments_lexer": "ipython3",
   "version": "3.6.3"
  }
 },
 "nbformat": 4,
 "nbformat_minor": 2
}
