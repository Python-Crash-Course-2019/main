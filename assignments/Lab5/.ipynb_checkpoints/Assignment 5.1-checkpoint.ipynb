{
 "cells": [
  {
   "cell_type": "markdown",
   "metadata": {},
   "source": [
    "# Assignment 5.1 (Python Crash Course - IMSAL)"
   ]
  },
  {
   "cell_type": "markdown",
   "metadata": {},
   "source": [
    "1) Complete the function below that takes in 2 parameters and returns the sum of both. Don't forget the documentation (for all exercises !)"
   ]
  },
  {
   "cell_type": "code",
   "execution_count": null,
   "metadata": {},
   "outputs": [],
   "source": [
    "def sum(a,b):\n",
    "    pass  # Remove this line\n",
    "\n",
    "# Tests:\n",
    "assert(sum(1,2) == 3)\n",
    "assert(sum(5,7) == 12)\n",
    "assert(sum(-3,17) == 14)"
   ]
  },
  {
   "cell_type": "markdown",
   "metadata": {},
   "source": [
    "2) Make a function \"mult\" that takes in 2 parameters and returns the multiplication of both. Write your own asserts. (DO it ! Even if it's the same ! Seeing and writing are two different things in the process of learning !)"
   ]
  },
  {
   "cell_type": "code",
   "execution_count": null,
   "metadata": {},
   "outputs": [],
   "source": []
  },
  {
   "cell_type": "markdown",
   "metadata": {},
   "source": [
    "3) Make a function that prints every element of a list."
   ]
  },
  {
   "cell_type": "code",
   "execution_count": 1,
   "metadata": {},
   "outputs": [],
   "source": [
    "def print_every_elem_of(lst):\n",
    "    pass"
   ]
  },
  {
   "cell_type": "markdown",
   "metadata": {},
   "source": [
    "4) Make a function that checks if an elem is present in a lst (by returning either True or False)"
   ]
  },
  {
   "cell_type": "code",
   "execution_count": null,
   "metadata": {},
   "outputs": [],
   "source": [
    "def is_in(elem, lst):\n",
    "    pass\n",
    "\n",
    "# Tests\n",
    "assert(is_in(7,[7,7,3,4]) == True)\n",
    "assert(is_in(4,[2,1,3,4]) == True)\n",
    "assert(is_in(123,[2,1,3,4]) == False)\n",
    "assert(is_in(1,[2,1,3,4]))  # Notice that I'm not saying == True here. So you can do it in 2 ways (this one is better)\n",
    "assert(not is_in(9,[2,1,3,4]))  # Same thing here (but with not !)\n",
    "assert(is_in(\"Adam\",[2,\"Adam\",3,4]))"
   ]
  },
  {
   "cell_type": "markdown",
   "metadata": {},
   "source": [
    "5) Make a function that removes an element from a list by returning another list, that has all elements of the given list without that element."
   ]
  },
  {
   "cell_type": "code",
   "execution_count": null,
   "metadata": {},
   "outputs": [],
   "source": [
    "def remove_elem_from_list(elem, lst):\n",
    "    pass\n",
    "\n",
    "# Tests\n",
    "assert(remove_elem_from(7,[7,7,3,4]) == [7,3,4])\n",
    "assert(remove_elem_from(3,[7,7,3,4]) == [7,7,4])\n",
    "assert(remove_elem_from(9,[7,7,3,4]) == [7,7,3,4])"
   ]
  },
  {
   "cell_type": "markdown",
   "metadata": {},
   "source": [
    "6) Make a function that checks whether a string of a mathematical operation has a legal parenthesis structure. So you only have 1 parameter: a string. Then you check inside that string whether every parenthesis is closed later on. What I mean is that when a parenthesis opens, it should be closed afterwards, and this should be valid for every parenthesis !\n",
    "\n",
    "Legal examples:\n",
    "* \"(7+3)*5-(3+5)\"\n",
    "* \"((7+3)*5)-(3+5)\"\n",
    "* \"(7+(3*(5+(4-1)))*(5-(3+5)))\"\n",
    "\n",
    "Illegal examples:\n",
    "* \"(7+6\"\n",
    "* \"(7+3)*5)-(3+5)\""
   ]
  },
  {
   "cell_type": "markdown",
   "metadata": {},
   "source": [
    "7) Finish the game below"
   ]
  },
  {
   "cell_type": "code",
   "execution_count": null,
   "metadata": {},
   "outputs": [],
   "source": [
    "def get_location_of_mario(map):\n",
    "    x = 0\n",
    "    while x < len(map):\n",
    "        y = 0\n",
    "        while y < len(map[x]):\n",
    "            if map[x][y] == \"M\":\n",
    "                return (x, y)\n",
    "            y += 1\n",
    "\n",
    "        x += 1\n",
    "\n",
    "\n",
    "def move_right(map):\n",
    "    # Get Mario's current location\n",
    "    current_location = get_location_of_mario(map)\n",
    "    x = current_location[0]\n",
    "    y = current_location[1]\n",
    "\n",
    "    # Make Mario move to the right\n",
    "    map[x][y+1] = \"M\"\n",
    "    map[x][y] = \" \"\n",
    "\n",
    "\n",
    "def tests():\n",
    "    # 1) Test for get_location_of_mario\n",
    "    test_map = \\\n",
    "        [[\" \", \" \", \" \", \" \", \" \"],\n",
    "         [\" \", \" \", \" \", \" \", \" \"],\n",
    "         [\" \", \" \", \"M\", \" \", \" \"],\n",
    "         [\" \", \" \", \" \", \" \", \" \"],\n",
    "         [\" \", \" \", \" \", \" \", \" \"]]\n",
    "    assert get_location_of_mario(test_map) == (2, 2)\n",
    "    test_map = \\\n",
    "        [[\"M\", \" \", \" \", \" \", \" \"],\n",
    "         [\" \", \" \", \" \", \" \", \" \"],\n",
    "         [\" \", \" \", \" \", \" \", \" \"],\n",
    "         [\" \", \" \", \" \", \" \", \" \"],\n",
    "         [\" \", \" \", \" \", \" \", \" \"]]\n",
    "    assert get_location_of_mario(test_map) == (0, 0)\n",
    "\n",
    "    # 2) Tests for move_right\n",
    "    move_right(test_map)\n",
    "    assert test_map == \\\n",
    "        [[\" \", \"M\", \" \", \" \", \" \"],\n",
    "         [\" \", \" \", \" \", \" \", \" \"],\n",
    "         [\" \", \" \", \" \", \" \", \" \"],\n",
    "         [\" \", \" \", \" \", \" \", \" \"],\n",
    "         [\" \", \" \", \" \", \" \", \" \"]]\n",
    "\n",
    "    move_right(test_map)\n",
    "    move_right(test_map)\n",
    "    assert test_map == \\\n",
    "           [[\" \", \" \", \" \", \"M\", \" \"],\n",
    "            [\" \", \" \", \" \", \" \", \" \"],\n",
    "            [\" \", \" \", \" \", \" \", \" \"],\n",
    "            [\" \", \" \", \" \", \" \", \" \"],\n",
    "            [\" \", \" \", \" \", \" \", \" \"]]\n",
    "\n",
    "tests()\n"
   ]
  }
 ],
 "metadata": {
  "kernelspec": {
   "display_name": "Python 3",
   "language": "python",
   "name": "python3"
  },
  "language_info": {
   "codemirror_mode": {
    "name": "ipython",
    "version": 3
   },
   "file_extension": ".py",
   "mimetype": "text/x-python",
   "name": "python",
   "nbconvert_exporter": "python",
   "pygments_lexer": "ipython3",
   "version": "3.6.3"
  }
 },
 "nbformat": 4,
 "nbformat_minor": 2
}
